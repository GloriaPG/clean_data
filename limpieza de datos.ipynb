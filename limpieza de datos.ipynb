{
 "cells": [
  {
   "cell_type": "markdown",
   "metadata": {},
   "source": [
    "# Los datos sucios se lavan en casa\n",
    "\n",
    "Ahora que hemos visto cómo se deben hacer las cosas hay que ponerlo en práctica con ejemplos de bases de datos reales.\n",
    "\n",
    "Los datos son modificaciones de la información general de las declaraciones patrimoniales del gobierno de la CDMX. Se pueden ver las declaraciones de los funcionarios en esta [página](http://www.contraloria.cdmx.gob.mx/combate/Delegaciones.php?opt=1#) \n"
   ]
  },
  {
   "cell_type": "code",
   "execution_count": null,
   "metadata": {
    "collapsed": true
   },
   "outputs": [],
   "source": [
    "# importar base de datos \"messy.csv\"\n",
    "\n",
    "import pandas as pd\n",
    "\n",
    "datos = pd.read_csv('messy.csv', sep=';')"
   ]
  },
  {
   "cell_type": "code",
   "execution_count": null,
   "metadata": {},
   "outputs": [],
   "source": [
    "# revisar que todo está en el formato que debería\n",
    "\n",
    "datos.head()"
   ]
  },
  {
   "cell_type": "code",
   "execution_count": null,
   "metadata": {},
   "outputs": [],
   "source": [
    "# la fecha es como deberia???\n",
    "type(datos['fechaTransmision'][0])"
   ]
  },
  {
   "cell_type": "code",
   "execution_count": null,
   "metadata": {},
   "outputs": [],
   "source": [
    "# hay algo que se pueda hacer?\n",
    "pd.to_datetime(datos['fechaTransmision'])"
   ]
  },
  {
   "cell_type": "code",
   "execution_count": null,
   "metadata": {
    "collapsed": true
   },
   "outputs": [],
   "source": [
    "# para hacerlo permanente\n",
    "\n",
    "datos['fechaTransmision'] = _"
   ]
  },
  {
   "cell_type": "code",
   "execution_count": null,
   "metadata": {},
   "outputs": [],
   "source": [
    "type(datos['fechaTransmision'][0])"
   ]
  },
  {
   "cell_type": "markdown",
   "metadata": {},
   "source": [
    "Tal vez te preguntes por qué nos conviene que la computadora acepte las fechas como fechas y no como *strings*, pues esto es porque si lo tenemos como un objeto \"fecha\" podemos acceder a sus atributos mes, día, año, etc de forma más sencilla. También al ser un objeto tiene métodos los cuales son útiles y podemos acceder. Digamos que quieres hacer un conteo de eventos agregando las fechas por mes o por año, para esto sólo accedes al atributo que te interesa de cada uno de los datos que quieres ver."
   ]
  },
  {
   "cell_type": "code",
   "execution_count": null,
   "metadata": {},
   "outputs": [],
   "source": [
    "datos.fechaTransmision.map(lambda x:x.year)"
   ]
  },
  {
   "cell_type": "code",
   "execution_count": null,
   "metadata": {
    "collapsed": true
   },
   "outputs": [],
   "source": []
  },
  {
   "cell_type": "code",
   "execution_count": null,
   "metadata": {},
   "outputs": [],
   "source": [
    "# accede al año .year, mes .month o dia .day\n",
    "\n",
    "datos['fechaTransmision'][0].day"
   ]
  },
  {
   "cell_type": "code",
   "execution_count": null,
   "metadata": {},
   "outputs": [],
   "source": [
    "# checa si tienes valores perdidos (nan, None)\n",
    "\n",
    "datos.isnull().sum()"
   ]
  },
  {
   "cell_type": "code",
   "execution_count": null,
   "metadata": {},
   "outputs": [],
   "source": [
    "datos.describe()"
   ]
  },
  {
   "cell_type": "code",
   "execution_count": null,
   "metadata": {},
   "outputs": [],
   "source": [
    "datos.experienciaPrivado.mean()"
   ]
  },
  {
   "cell_type": "code",
   "execution_count": null,
   "metadata": {},
   "outputs": [],
   "source": [
    "# Piensa en formas de rellenar esos valores\n",
    "# para hacer el cambio directamente en el df usa inplace=True como parametro\n",
    "\n",
    "datos.replace({'experienciaPrivado': {None: 2.9}}).isnull().sum()\n",
    "\n",
    "# también puedes usar el método \"fillna\""
   ]
  },
  {
   "cell_type": "code",
   "execution_count": null,
   "metadata": {},
   "outputs": [],
   "source": [
    "datos.experienciaPrivado.value_counts()"
   ]
  },
  {
   "cell_type": "code",
   "execution_count": null,
   "metadata": {
    "collapsed": true
   },
   "outputs": [],
   "source": [
    "from collections import Counter"
   ]
  },
  {
   "cell_type": "code",
   "execution_count": null,
   "metadata": {
    "collapsed": true
   },
   "outputs": [],
   "source": []
  },
  {
   "cell_type": "code",
   "execution_count": null,
   "metadata": {},
   "outputs": [],
   "source": [
    "# Puedes hacer hacer inferencias acerca del ingreso de las personas basado en educación?\n",
    "# Cómo harías esto?\n",
    "\n",
    "datos.nivelMaximoEstudios.unique()"
   ]
  },
  {
   "cell_type": "code",
   "execution_count": null,
   "metadata": {
    "collapsed": true
   },
   "outputs": [],
   "source": [
    "#Primero a emparejar el string\n",
    "\n",
    "datos['estudios'] = datos.nivelMaximoEstudios.str.upper()"
   ]
  },
  {
   "cell_type": "code",
   "execution_count": null,
   "metadata": {},
   "outputs": [],
   "source": [
    "datos.head()"
   ]
  },
  {
   "cell_type": "code",
   "execution_count": null,
   "metadata": {},
   "outputs": [],
   "source": [
    "len(datos.puestoEncargo.unique())"
   ]
  },
  {
   "cell_type": "code",
   "execution_count": null,
   "metadata": {},
   "outputs": [],
   "source": [
    "datos.puestoEncargo.unique()"
   ]
  },
  {
   "cell_type": "code",
   "execution_count": null,
   "metadata": {
    "collapsed": true
   },
   "outputs": [],
   "source": [
    "# Es necesario hacer un ajuste de los valores??"
   ]
  },
  {
   "cell_type": "code",
   "execution_count": null,
   "metadata": {
    "collapsed": true
   },
   "outputs": [],
   "source": [
    "# Piensa en la experiencia Privado y Público, no te parece que deberían ir en dos variables (tipo de experiencia \n",
    "# años de experiencia)"
   ]
  },
  {
   "cell_type": "code",
   "execution_count": null,
   "metadata": {
    "collapsed": true
   },
   "outputs": [],
   "source": [
    "datos.replace({'experienciaPrivado': {None: 2}}, inplace=True)"
   ]
  },
  {
   "cell_type": "code",
   "execution_count": null,
   "metadata": {
    "collapsed": true
   },
   "outputs": [],
   "source": [
    "datos['experienciaPrivado'] = datos.experienciaPrivado.astype(int)"
   ]
  },
  {
   "cell_type": "code",
   "execution_count": null,
   "metadata": {},
   "outputs": [],
   "source": [
    "pd.melt(datos.reset_index(), id_vars=['fechaTransmision', 'puestoEncargo', 'nivelMaximoEstudios',\n",
    "        'ingresoTotalAnual', 'estudios'], value_vars=['experienciaPrivado', 'experienciaPublico'], \n",
    "        value_name='añosExperiencia')"
   ]
  },
  {
   "cell_type": "code",
   "execution_count": null,
   "metadata": {
    "collapsed": true
   },
   "outputs": [],
   "source": []
  }
 ],
 "metadata": {
  "kernelspec": {
   "display_name": "Python 3",
   "language": "python",
   "name": "python3"
  },
  "language_info": {
   "codemirror_mode": {
    "name": "ipython",
    "version": 3
   },
   "file_extension": ".py",
   "mimetype": "text/x-python",
   "name": "python",
   "nbconvert_exporter": "python",
   "pygments_lexer": "ipython3",
   "version": "3.5.2"
  }
 },
 "nbformat": 4,
 "nbformat_minor": 2
}
